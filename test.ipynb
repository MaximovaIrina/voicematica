{
 "cells": [
  {
   "cell_type": "code",
   "execution_count": 7,
   "metadata": {},
   "outputs": [],
   "source": [
    "txt = \"\"\"Сможешь ли ты произнести ссылку www: www.youtube.com\n",
    "Сможешь ли ты произнести ссылку https: https://www.youtube.com/\"\"\""
   ]
  },
  {
   "cell_type": "code",
   "execution_count": 8,
   "metadata": {},
   "outputs": [],
   "source": [
    "msg =  {\n",
    "    'message_id': 663, \n",
    "    'from': {'id': 762583084, 'is_bot': False, 'first_name': 'Irina', 'last_name': 'Maximova', 'username': 'irusvirus', 'language_code': 'en'}, \n",
    "    'chat': {'id': 762583084, 'first_name': 'Irina', 'last_name': 'Maximova', 'username': 'irusvirus', 'type': 'private'}, \n",
    "    'date': 1683707217, \n",
    "    'text': 'Сможешь ли ты произнести ссылку www: www.youtube.com\\nСможешь ли ты произнести ссылку https: https://www.youtube.com/\\nСможешь ли ты произнести ссылку скрытую', \n",
    "    'entities': [\n",
    "         {'offset': 37, 'length': 15, 'type': 'text_link', 'url': 'https://www.youtube.com/'}, \n",
    "         {'offset': 37, 'length': 15, 'type': 'underline'}, \n",
    "         {'offset': 92, 'length': 24, 'type': 'text_link', 'url': 'https://www.youtube.com/'},\n",
    "         {'offset': 92, 'length': 24, 'type': 'underline'}, \n",
    "         {'offset': 149, 'length': 7, 'type': 'text_link', 'url': 'https://www.youtube.com/'}, \n",
    "         {'offset': 149, 'length': 7, 'type': 'underline'}\n",
    "        ]\n",
    "    }\n"
   ]
  },
  {
   "cell_type": "code",
   "execution_count": 9,
   "metadata": {},
   "outputs": [
    {
     "data": {
      "text/plain": [
       "'Сможешь ли ты произнести ссылку www: , здесь прикреплена ссылка,\\nСможешь ли ты произнести ссылку https: , здесь прикреплена ссылка,'"
      ]
     },
     "execution_count": 9,
     "metadata": {},
     "output_type": "execute_result"
    }
   ],
   "source": [
    "import re\n",
    "re.compile(r'https?://\\S+|www\\.\\S+').sub(', здесь прикреплена ссылка,', txt)"
   ]
  },
  {
   "cell_type": "code",
   "execution_count": 15,
   "metadata": {},
   "outputs": [
    {
     "name": "stdout",
     "output_type": "stream",
     "text": [
      "www.youtube.com\n",
      "['www.youtube.com']\n",
      "https://www.youtube.com/\n",
      "['https://www.youtube.com/']\n",
      "скрытую\n",
      "[]\n"
     ]
    },
    {
     "data": {
      "text/plain": [
       "'Сможешь ли ты произнести ссылку www: , здесь прикреплена ссылка,\\nСможешь ли ты произнести ссылку https: , здесь прикреплена ссылка,\\nСможешь ли ты произнести ссылку скрытую, здесь прикреплена ссылка,'"
      ]
     },
     "execution_count": 15,
     "metadata": {},
     "output_type": "execute_result"
    }
   ],
   "source": [
    "offset = 0\n",
    "txt = msg[\"text\"]\n",
    "template = ', здесь прикреплена ссылка,'\n",
    "if \"entities\" in msg:\n",
    "    for entity in msg[\"entities\"]:\n",
    "        if entity[\"type\"] == \"text_link\":\n",
    "            start = entity[\"offset\"] + offset\n",
    "            url_len = entity[\"length\"]\n",
    "            print(txt[start:start+url_len])\n",
    "            print(re.findall(r'https?://\\S+|www\\.\\S+', txt[start:start+url_len]))\n",
    "            if len(re.findall(r'https?://\\S+|www\\.\\S+', txt[start:start+url_len])) == 0:\n",
    "                txt = txt[:start+url_len] + template + txt[start+url_len:]\n",
    "                offset += len(template)\n",
    "            else:\n",
    "                txt = txt[:start] + template + txt[start+url_len:]\n",
    "                offset += len(template) - url_len\n",
    "txt"
   ]
  },
  {
   "cell_type": "code",
   "execution_count": null,
   "metadata": {},
   "outputs": [],
   "source": []
  }
 ],
 "metadata": {
  "kernelspec": {
   "display_name": "venv",
   "language": "python",
   "name": "python3"
  },
  "language_info": {
   "codemirror_mode": {
    "name": "ipython",
    "version": 3
   },
   "file_extension": ".py",
   "mimetype": "text/x-python",
   "name": "python",
   "nbconvert_exporter": "python",
   "pygments_lexer": "ipython3",
   "version": "3.10.10"
  },
  "orig_nbformat": 4
 },
 "nbformat": 4,
 "nbformat_minor": 2
}
